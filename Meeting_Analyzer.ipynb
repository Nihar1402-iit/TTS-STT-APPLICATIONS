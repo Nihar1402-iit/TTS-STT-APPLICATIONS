{
  "nbformat": 4,
  "nbformat_minor": 0,
  "metadata": {
    "colab": {
      "provenance": []
    },
    "kernelspec": {
      "name": "python3",
      "display_name": "Python 3"
    },
    "language_info": {
      "name": "python"
    }
  },
  "cells": [
    {
      "cell_type": "code",
      "source": [
        "!pip install pydub"
      ],
      "metadata": {
        "colab": {
          "base_uri": "https://localhost:8080/"
        },
        "id": "SI2OJr3T0oiE",
        "outputId": "776a9ff9-dd0d-44df-8f02-056e079fadd7"
      },
      "execution_count": 3,
      "outputs": [
        {
          "output_type": "stream",
          "name": "stdout",
          "text": [
            "Collecting pydub\n",
            "  Downloading pydub-0.25.1-py2.py3-none-any.whl.metadata (1.4 kB)\n",
            "Downloading pydub-0.25.1-py2.py3-none-any.whl (32 kB)\n",
            "Installing collected packages: pydub\n",
            "Successfully installed pydub-0.25.1\n"
          ]
        }
      ]
    },
    {
      "cell_type": "code",
      "source": [
        "!pip install speechrecognition"
      ],
      "metadata": {
        "colab": {
          "base_uri": "https://localhost:8080/"
        },
        "id": "ffBbkGVS0yyT",
        "outputId": "571a3b3f-326e-4205-e37a-139ed3118a16"
      },
      "execution_count": 4,
      "outputs": [
        {
          "output_type": "stream",
          "name": "stdout",
          "text": [
            "Collecting speechrecognition\n",
            "  Downloading SpeechRecognition-3.10.4-py2.py3-none-any.whl.metadata (28 kB)\n",
            "Requirement already satisfied: requests>=2.26.0 in /usr/local/lib/python3.10/dist-packages (from speechrecognition) (2.31.0)\n",
            "Requirement already satisfied: typing-extensions in /usr/local/lib/python3.10/dist-packages (from speechrecognition) (4.12.2)\n",
            "Requirement already satisfied: charset-normalizer<4,>=2 in /usr/local/lib/python3.10/dist-packages (from requests>=2.26.0->speechrecognition) (3.3.2)\n",
            "Requirement already satisfied: idna<4,>=2.5 in /usr/local/lib/python3.10/dist-packages (from requests>=2.26.0->speechrecognition) (3.7)\n",
            "Requirement already satisfied: urllib3<3,>=1.21.1 in /usr/local/lib/python3.10/dist-packages (from requests>=2.26.0->speechrecognition) (2.0.7)\n",
            "Requirement already satisfied: certifi>=2017.4.17 in /usr/local/lib/python3.10/dist-packages (from requests>=2.26.0->speechrecognition) (2024.7.4)\n",
            "Downloading SpeechRecognition-3.10.4-py2.py3-none-any.whl (32.8 MB)\n",
            "\u001b[2K   \u001b[90m━━━━━━━━━━━━━━━━━━━━━━━━━━━━━━━━━━━━━━━━\u001b[0m \u001b[32m32.8/32.8 MB\u001b[0m \u001b[31m23.7 MB/s\u001b[0m eta \u001b[36m0:00:00\u001b[0m\n",
            "\u001b[?25hInstalling collected packages: speechrecognition\n",
            "Successfully installed speechrecognition-3.10.4\n"
          ]
        }
      ]
    },
    {
      "cell_type": "code",
      "source": [
        "!pip install gtts"
      ],
      "metadata": {
        "colab": {
          "base_uri": "https://localhost:8080/"
        },
        "id": "6GeQzN9I06I-",
        "outputId": "15a14707-b4eb-4df4-d528-09b3f7dda50e"
      },
      "execution_count": 5,
      "outputs": [
        {
          "output_type": "stream",
          "name": "stdout",
          "text": [
            "Collecting gtts\n",
            "  Downloading gTTS-2.5.2-py3-none-any.whl.metadata (4.1 kB)\n",
            "Requirement already satisfied: requests<3,>=2.27 in /usr/local/lib/python3.10/dist-packages (from gtts) (2.31.0)\n",
            "Requirement already satisfied: click<8.2,>=7.1 in /usr/local/lib/python3.10/dist-packages (from gtts) (8.1.7)\n",
            "Requirement already satisfied: charset-normalizer<4,>=2 in /usr/local/lib/python3.10/dist-packages (from requests<3,>=2.27->gtts) (3.3.2)\n",
            "Requirement already satisfied: idna<4,>=2.5 in /usr/local/lib/python3.10/dist-packages (from requests<3,>=2.27->gtts) (3.7)\n",
            "Requirement already satisfied: urllib3<3,>=1.21.1 in /usr/local/lib/python3.10/dist-packages (from requests<3,>=2.27->gtts) (2.0.7)\n",
            "Requirement already satisfied: certifi>=2017.4.17 in /usr/local/lib/python3.10/dist-packages (from requests<3,>=2.27->gtts) (2024.7.4)\n",
            "Downloading gTTS-2.5.2-py3-none-any.whl (29 kB)\n",
            "Installing collected packages: gtts\n",
            "Successfully installed gtts-2.5.2\n"
          ]
        }
      ]
    },
    {
      "cell_type": "markdown",
      "source": [
        "# Import necessary libraries"
      ],
      "metadata": {
        "id": "Gy4M4JuwFCOA"
      }
    },
    {
      "cell_type": "code",
      "source": [
        "import moviepy.editor as mp\n",
        "import speech_recognition as sr\n",
        "from gtts import gTTS\n",
        "from transformers import pipeline\n",
        "import os"
      ],
      "metadata": {
        "id": "bmca2zdoFAwq"
      },
      "execution_count": 6,
      "outputs": []
    },
    {
      "cell_type": "code",
      "source": [
        "def mp4_to_wav(mp4_file, wav_file):\n",
        "    # Load video file\n",
        "    video = mp.VideoFileClip(mp4_file)\n",
        "\n",
        "    # Extract audio and write to WAV file directly\n",
        "    audio = video.audio\n",
        "    audio.write_audiofile(wav_file, codec='pcm_s16le')"
      ],
      "metadata": {
        "id": "4gDD1VMlFEp4"
      },
      "execution_count": 7,
      "outputs": []
    },
    {
      "cell_type": "code",
      "source": [
        "def speech_to_text(wav_file):\n",
        "    # Initialize recognizer\n",
        "    recognizer = sr.Recognizer()\n",
        "\n",
        "    # Load audio file\n",
        "    with sr.AudioFile(wav_file) as source:\n",
        "        audio_data = recognizer.record(source)\n",
        "        text = recognizer.recognize_google(audio_data)\n",
        "\n",
        "    return text"
      ],
      "metadata": {
        "id": "H4iFD3RMFHeH"
      },
      "execution_count": 8,
      "outputs": []
    },
    {
      "cell_type": "code",
      "source": [
        "def summarize_text(text):\n",
        "    # Initialize the summarization pipeline\n",
        "    summarizer = pipeline(\"summarization\")\n",
        "\n",
        "    # Perform summarization\n",
        "    summary = summarizer(text, max_length=130, min_length=30, do_sample=False)\n",
        "\n",
        "    return summary[0]['summary_text']"
      ],
      "metadata": {
        "id": "ziYzZ7-3FKTx"
      },
      "execution_count": 9,
      "outputs": []
    },
    {
      "cell_type": "code",
      "source": [
        "def analyze_sentiment(text):\n",
        "    # Initialize the sentiment analysis pipeline with a more robust model\n",
        "    sentiment_analyzer = pipeline(\"sentiment-analysis\", model=\"distilbert-base-uncased-finetuned-sst-2-english\")\n",
        "\n",
        "    # Perform sentiment analysis\n",
        "    sentiment = sentiment_analyzer(text)\n",
        "\n",
        "    return sentiment[0]['label'], sentiment[0]['score']"
      ],
      "metadata": {
        "id": "yD15xjnmFNHY"
      },
      "execution_count": 10,
      "outputs": []
    },
    {
      "cell_type": "code",
      "source": [
        "def classify_working_environment(sentiment_label, sentiment_score):\n",
        "    if sentiment_label == 'NEGATIVE' and sentiment_score > 0.5:\n",
        "        return \"Harsh Working Environment\"\n",
        "    elif sentiment_label == 'POSITIVE' and sentiment_score > 0.5:\n",
        "        return \"Good Working Environment\"\n",
        "    else:\n",
        "        return \"Mediocre Working Environment\""
      ],
      "metadata": {
        "id": "lOMDOW-kFh-g"
      },
      "execution_count": 19,
      "outputs": []
    },
    {
      "cell_type": "code",
      "source": [
        "def text_to_speech(text, tts_file):\n",
        "    tts = gTTS(text)\n",
        "    tts.save(tts_file)"
      ],
      "metadata": {
        "id": "1T_6MGN4Fj8E"
      },
      "execution_count": 16,
      "outputs": []
    },
    {
      "cell_type": "code",
      "source": [
        "def process_video(mp4_file, wav_file, tts_file):\n",
        "    # Convert MP4 to WAV\n",
        "    mp4_to_wav(mp4_file, wav_file)\n",
        "\n",
        "    # Perform Speech-to-Text\n",
        "    text = speech_to_text(wav_file)\n",
        "\n",
        "    # Summarize the text\n",
        "    summarized_text = summarize_text(text)\n",
        "\n",
        "    # Perform Text-to-Speech\n",
        "    text_to_speech(summarized_text, tts_file)\n",
        "\n",
        "    # Perform Sentiment Analysis\n",
        "    sentiment_label, sentiment_score = analyze_sentiment(summarized_text)\n",
        "\n",
        "    # Classify Working Environment\n",
        "    working_environment = classify_working_environment(sentiment_label, sentiment_score)\n",
        "\n",
        "    return text, summarized_text, sentiment_label, sentiment_score, working_environment"
      ],
      "metadata": {
        "id": "UXOOOfQVFmFD"
      },
      "execution_count": 17,
      "outputs": []
    },
    {
      "cell_type": "code",
      "execution_count": 20,
      "metadata": {
        "colab": {
          "base_uri": "https://localhost:8080/"
        },
        "id": "Cu5KeAty0gjC",
        "outputId": "199c301d-7eed-4e61-d5be-8c25e3771823"
      },
      "outputs": [
        {
          "output_type": "stream",
          "name": "stdout",
          "text": [
            "MoviePy - Writing audio in output_audio.wav\n"
          ]
        },
        {
          "output_type": "stream",
          "name": "stderr",
          "text": []
        },
        {
          "output_type": "stream",
          "name": "stdout",
          "text": [
            "MoviePy - Done.\n"
          ]
        },
        {
          "output_type": "stream",
          "name": "stderr",
          "text": [
            "No model was supplied, defaulted to sshleifer/distilbart-cnn-12-6 and revision a4f8f3e (https://huggingface.co/sshleifer/distilbart-cnn-12-6).\n",
            "Using a pipeline without specifying a model name and revision in production is not recommended.\n",
            "Your max_length is set to 130, but your input_length is only 86. Since this is a summarization task, where outputs shorter than the input are typically wanted, you might consider decreasing max_length manually, e.g. summarizer('...', max_length=43)\n"
          ]
        },
        {
          "output_type": "stream",
          "name": "stdout",
          "text": [
            "Transcribed Text:\n",
            "call so this is a demo for UPS payment Voice assistance so as you do not have any platform for I will be just showing it as a simulation how it would work and rest of the things would have been included in my blog post so this is my login so as soon as I login I have this balance transaction history is 100 to Virat yes so after this conversation and let's check our bank balance Now check my balance\n",
            "\n",
            "Summarized Text:\n",
            " This is a demo for UPS payment Voice assistance so as you do not have any platform for I will be just showing it as a simulation how it would work . As soon as I login I have this balance transaction history is 100 to Virat yes .\n",
            "\n",
            "Sentiment Analysis:\n",
            "Sentiment: POSITIVE\n",
            "Confidence: 1.00\n",
            "\n",
            "Working Environment Classification:\n",
            "Good Working Environment\n"
          ]
        }
      ],
      "source": [
        "# File paths (replace with your actual file paths)\n",
        "mp4_file = \"Upi_lite_demo.mp4\"\n",
        "wav_file = \"output_audio.wav\"\n",
        "tts_file = \"output_tts.mp3\"\n",
        "\n",
        "# Process the video\n",
        "text, summarized_text, sentiment_label, sentiment_score, working_environment = process_video(mp4_file, wav_file, tts_file)\n",
        "\n",
        "# Display results\n",
        "print(\"Transcribed Text:\")\n",
        "print(text)\n",
        "\n",
        "print(\"\\nSummarized Text:\")\n",
        "print(summarized_text)\n",
        "\n",
        "print(\"\\nSentiment Analysis:\")\n",
        "print(f\"Sentiment: {sentiment_label}\")\n",
        "print(f\"Confidence: {sentiment_score:.2f}\")\n",
        "\n",
        "print(\"\\nWorking Environment Classification:\")\n",
        "print(working_environment)\n"
      ]
    }
  ]
}