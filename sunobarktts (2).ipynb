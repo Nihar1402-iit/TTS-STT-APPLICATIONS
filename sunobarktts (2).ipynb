{
  "nbformat": 4,
  "nbformat_minor": 0,
  "metadata": {
    "colab": {
      "provenance": [],
      "gpuType": "T4"
    },
    "kernelspec": {
      "name": "python3",
      "display_name": "Python 3"
    },
    "language_info": {
      "name": "python"
    },
    "accelerator": "GPU"
  },
  "cells": [
    {
      "cell_type": "code",
      "source": [
        "from transformers import AutoProcessor, BarkModel\n",
        "import scipy\n",
        "processor = AutoProcessor.from_pretrained(\"suno/bark\")\n",
        "model = BarkModel.from_pretrained(\"suno/bark\")\n",
        "model.to(\"cuda\")\n",
        "\n",
        "def generate_audio(text,preset,output):\n",
        "    inputs = processor(text,voice_preset = preset)\n",
        "    for k,v in inputs.items():\n",
        "        inputs[k] = v.to(\"cuda\")\n",
        "    audio_array = model.generate(**inputs)\n",
        "    audio_array = audio_array.cpu().numpy().squeeze()\n",
        "    sample_rate = model.generation_config.sample_rate\n",
        "    scipy.io.wavfile.write(output,rate = sample_rate, data=audio_array)\n",
        "\n",
        "generate_audio(\n",
        "    text=\"hello Nihar here\",\n",
        "    preset=\"v2/en_speaker_9\",\n",
        "    output=\"output.wav\",\n",
        ")"
      ],
      "metadata": {
        "colab": {
          "base_uri": "https://localhost:8080/"
        },
        "id": "A6sfK1WBOcAr",
        "outputId": "2d177034-76d4-45d1-c552-cdab68946b54"
      },
      "execution_count": 2,
      "outputs": [
        {
          "output_type": "stream",
          "name": "stderr",
          "text": [
            "/usr/local/lib/python3.10/dist-packages/torch/nn/utils/weight_norm.py:28: UserWarning: torch.nn.utils.weight_norm is deprecated in favor of torch.nn.utils.parametrizations.weight_norm.\n",
            "  warnings.warn(\"torch.nn.utils.weight_norm is deprecated in favor of torch.nn.utils.parametrizations.weight_norm.\")\n",
            "/usr/local/lib/python3.10/dist-packages/transformers/models/encodec/modeling_encodec.py:123: UserWarning: To copy construct from a tensor, it is recommended to use sourceTensor.clone().detach() or sourceTensor.clone().detach().requires_grad_(True), rather than torch.tensor(sourceTensor).\n",
            "  self.register_buffer(\"padding_total\", torch.tensor(kernel_size - stride, dtype=torch.int64), persistent=False)\n",
            "The attention mask and the pad token id were not set. As a consequence, you may observe unexpected behavior. Please pass your input's `attention_mask` to obtain reliable results.\n",
            "Setting `pad_token_id` to `eos_token_id`:10000 for open-end generation.\n"
          ]
        }
      ]
    }
  ]
}